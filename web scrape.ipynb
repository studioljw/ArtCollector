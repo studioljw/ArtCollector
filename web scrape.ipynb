{
 "metadata": {
  "language_info": {
   "codemirror_mode": {
    "name": "ipython",
    "version": 3
   },
   "file_extension": ".py",
   "mimetype": "text/x-python",
   "name": "python",
   "nbconvert_exporter": "python",
   "pygments_lexer": "ipython3",
   "version": "3.9.0-final"
  },
  "orig_nbformat": 2,
  "kernelspec": {
   "name": "python3",
   "display_name": "Python 3",
   "language": "python"
  }
 },
 "nbformat": 4,
 "nbformat_minor": 2,
 "cells": [
  {
   "source": [
    "# ArtsyCollector"
   ],
   "cell_type": "markdown",
   "metadata": {}
  },
  {
   "source": [
    "## Aim\n",
    "To collect artwork data from Artsy.net"
   ],
   "cell_type": "markdown",
   "metadata": {}
  },
  {
   "source": [
    "### Import libraries"
   ],
   "cell_type": "markdown",
   "metadata": {}
  },
  {
   "cell_type": "code",
   "execution_count": 2,
   "metadata": {},
   "outputs": [],
   "source": [
    "import pandas as pd\n",
    "import numpy as np\n",
    "\n",
    "import requests\n",
    "import lxml\n",
    "from selenium import webdriver\n",
    "from time import sleep"
   ]
  },
  {
   "source": [
    "### Start web driver and go to Artsy"
   ],
   "cell_type": "markdown",
   "metadata": {}
  },
  {
   "cell_type": "code",
   "execution_count": 5,
   "metadata": {},
   "outputs": [],
   "source": [
    "URL = \"https://www.artsy.net/collect?acquireable=true&offerable=true&at_auction=true\"\n",
    "\n",
    "driver = webdriver.Chrome('chrome_driver/chromedriver')\n",
    "driver.get(URL)\n",
    "current_element = driver.find_element_by_xpath('//div[@data-test=\"artworkGridItem\"]')\n",
    "current_element.click()\n",
    "\n",
    "\"Details__TruncatedLine**\"\n",
    "title = \n",
    "artist\n",
    "year\n",
    "price\n",
    "\n",
    "\n",
    "# driver.quit()"
   ]
  },
  {
   "source": [
    "### Pull data from entry webpage"
   ],
   "cell_type": "markdown",
   "metadata": {}
  },
  {
   "cell_type": "code",
   "execution_count": null,
   "metadata": {},
   "outputs": [],
   "source": []
  }
 ]
}